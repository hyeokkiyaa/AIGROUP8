{
 "cells": [
  {
   "cell_type": "code",
   "execution_count": null,
   "id": "09611179-4704-4a43-9ee9-799a0ccb1664",
   "metadata": {},
   "outputs": [],
   "source": []
  }
 ],
 "metadata": {
  "kernelspec": {
   "display_name": "",
   "name": ""
  },
  "language_info": {
   "name": ""
  }
 },
 "nbformat": 4,
 "nbformat_minor": 5
}
